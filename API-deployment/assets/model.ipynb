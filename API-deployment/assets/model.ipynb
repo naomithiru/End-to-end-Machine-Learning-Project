{
 "metadata": {
  "language_info": {
   "codemirror_mode": {
    "name": "ipython",
    "version": 3
   },
   "file_extension": ".py",
   "mimetype": "text/x-python",
   "name": "python",
   "nbconvert_exporter": "python",
   "pygments_lexer": "ipython3",
   "version": "3.9.0-final"
  },
  "orig_nbformat": 2,
  "kernelspec": {
   "name": "python3",
   "display_name": "Python 3"
  }
 },
 "nbformat": 4,
 "nbformat_minor": 2,
 "cells": [
  {
   "cell_type": "code",
   "execution_count": 294,
   "metadata": {},
   "outputs": [
    {
     "output_type": "stream",
     "name": "stdout",
     "text": [
      "/mnt/d/BeCode/BXL-Bouman-2.22/Content/05.deployment/2.5.Deployment_Project/.env/bin/python\n"
     ]
    }
   ],
   "source": [
    "print(sys.executable)"
   ]
  },
  {
   "cell_type": "code",
   "execution_count": 295,
   "metadata": {},
   "outputs": [],
   "source": [
    "import numpy as np\n",
    "import pandas as pd \n",
    "from sklearn.linear_model import LinearRegression\n",
    "from sklearn.model_selection import train_test_split\n",
    "from sklearn.pipeline import make_pipeline\n",
    "from sklearn.preprocessing import OneHotEncoder\n",
    "from sklearn.compose import make_column_transformer\n",
    "from sklearn.model_selection import cross_val_score"
   ]
  },
  {
   "cell_type": "code",
   "execution_count": 296,
   "metadata": {},
   "outputs": [],
   "source": [
    "load_data = pd.read_csv('./def_dataset.csv')\n",
    "data = load_data.drop(['source', 'basement'], axis=1)"
   ]
  },
  {
   "cell_type": "code",
   "execution_count": 297,
   "metadata": {},
   "outputs": [],
   "source": [
    "#fill null values with mode\n",
    "data = data.fillna(data.mode().iloc[0])"
   ]
  },
  {
   "cell_type": "code",
   "execution_count": 298,
   "metadata": {},
   "outputs": [],
   "source": [
    "#split train and test_set\n",
    "from sklearn.model_selection import train_test_split\n",
    "train_set, test_set = train_test_split(data, test_size=0.2, random_state=42)\n"
   ]
  },
  {
   "cell_type": "code",
   "execution_count": 299,
   "metadata": {},
   "outputs": [],
   "source": [
    "#Set train_set to df\n",
    "df = train_set"
   ]
  },
  {
   "cell_type": "code",
   "execution_count": 300,
   "metadata": {},
   "outputs": [],
   "source": [
    "def price_area(df1):    \n",
    "    df1['coeff'] = np.where(df1['land_surface'] + df1['garden_area'] < 250, 2, np.where(df1['land_surface'] + df1['garden_area'] < 1000, 4, np.where(df1['land_surface'] + df1['garden_area'] < 5000, 8, np.where(df1['land_surface'] + df1['garden_area'] < 10000, 12, 16))))        \n",
    "    df1['divisor'] = df1['area'] + df1['terrace_area'] + df1['garden_area'] / df1['coeff'] + df1['land_surface']/df1['coeff']\n",
    "    df1['price_area'] = df1['price']/df1['divisor']\n",
    "    f = ['open_fire', 'swimming_pool_has', 'furnished', 'equipped_kitchen_has']\n",
    "    c = [-5000, -15000, -10000, -5000]\n",
    "    for i in range(len(f)):\n",
    "        df1['price_area'] += np.where(df1[f[i]] == True, c[i]/df1['divisor'], 0)\n",
    "    factors = ['AS_NEW', 'JUST_RENOVATED', 'TO_RENOVATE', 'TO_RESTORE']\n",
    "    rate = [-600, -300, 300, 600]\n",
    "    for i in range(len(factors)):\n",
    "        df1['price_area'] += np.where(df1['building_state_agg'] == factors[i],\n",
    "                              (rate[i]*(df1['area'] + df1['terrace_area'])/df1['divisor']), 0)\n",
    "    return df1"
   ]
  },
  {
   "cell_type": "code",
   "execution_count": 301,
   "metadata": {},
   "outputs": [],
   "source": [
    "df = price_area(df)\n",
    "df = df[df['price_area'] < 20000]"
   ]
  },
  {
   "cell_type": "code",
   "execution_count": 302,
   "metadata": {},
   "outputs": [],
   "source": [
    "#give studio apartments one bedrooms\n",
    "#df['rooms_number'] = df['rooms_number']+1"
   ]
  },
  {
   "cell_type": "code",
   "execution_count": 303,
   "metadata": {},
   "outputs": [],
   "source": [
    "# filter out datapoints less than 1,000euros per area it is 3000+ records 500€=773records\n",
    "# and 10,000euros per area, room_number more than 10,area more than 500sqm \n",
    "#df_filtered = df[(df['price_area'] > 500) & (df['price_area']<5500) & (df['rooms_number']<7)   & (df['area']<500)]\n",
    "#df_filtered.shape"
   ]
  },
  {
   "cell_type": "code",
   "execution_count": 304,
   "metadata": {},
   "outputs": [
    {
     "output_type": "execute_result",
     "data": {
      "text/plain": [
       "(10847, 21)"
      ]
     },
     "metadata": {},
     "execution_count": 304
    }
   ],
   "source": [
    "df.shape"
   ]
  },
  {
   "cell_type": "code",
   "execution_count": 305,
   "metadata": {},
   "outputs": [],
   "source": [
    "final_df = df"
   ]
  },
  {
   "source": [
    "## Models"
   ],
   "cell_type": "markdown",
   "metadata": {}
  },
  {
   "cell_type": "code",
   "execution_count": 306,
   "metadata": {},
   "outputs": [
    {
     "output_type": "execute_result",
     "data": {
      "text/plain": [
       "Index(['house_is', 'property_subtype', 'price', 'postcode', 'area',\n",
       "       'rooms_number', 'equipped_kitchen_has', 'garden', 'garden_area',\n",
       "       'terrace', 'terrace_area', 'furnished', 'swimming_pool_has',\n",
       "       'land_surface', 'building_state_agg', 'open_fire', 'longitude',\n",
       "       'latitude', 'coeff', 'divisor', 'price_area', 'status'],\n",
       "      dtype='object')"
      ]
     },
     "metadata": {},
     "execution_count": 306
    }
   ],
   "source": [
    "final_df['status']=np.where(final_df['building_state_agg'] == 'AS_NEW',(300*(final_df['area']+ final_df['terrace_area'])),np.where(final_df['building_state_agg'] == 'JUST_RENOVATED',(150*(final_df['area']+ final_df['terrace_area'])),np.where(final_df['building_state_agg'] == 'TO_RENOVATE',(-150*(final_df['area']+ final_df['terrace_area'])),np.where(final_df['building_state_agg'] == 'TO_RESTORE',(-300*(final_df['area']+ final_df['terrace_area'])),0))))\n",
    "f = ['open_fire', 'swimming_pool_has', 'furnished', 'equipped_kitchen_has']\n",
    "c = [5000, 25000, 20000, 10000]\n",
    "for i in range(len(f)):\n",
    "    final_df['status'] += np.where(final_df[f[i]] == True, c[i], 0)\n",
    "final_df.columns"
   ]
  },
  {
   "cell_type": "code",
   "execution_count": 307,
   "metadata": {},
   "outputs": [
    {
     "output_type": "execute_result",
     "data": {
      "text/plain": [
       "(10847, 22)"
      ]
     },
     "metadata": {},
     "execution_count": 307
    }
   ],
   "source": [
    "final_df.shape"
   ]
  },
  {
   "cell_type": "code",
   "execution_count": 320,
   "metadata": {},
   "outputs": [
    {
     "output_type": "stream",
     "name": "stdout",
     "text": [
      "X_train:  (10847, 38)\ny_train:  (10847,)\n"
     ]
    }
   ],
   "source": [
    "#Prepare the training data\n",
    "x_train = final_df.drop(['status', 'price','price_area','house_is', 'divisor', 'coeff', 'postcode', 'equipped_kitchen_has', 'garden', 'terrace'], axis=1)    \n",
    "\n",
    "column_trans = make_column_transformer((OneHotEncoder(), ['property_subtype', 'swimming_pool_has', 'open_fire', 'building_state_agg']), remainder='passthrough')\n",
    "X_train = column_trans.fit_transform(x_train)\n",
    "print(\"X_train: \", X_train.shape)\n",
    "\n",
    "y_train = final_df['price']\n",
    "print(\"y_train: \",y_train.shape)   \n",
    "                          "
   ]
  },
  {
   "cell_type": "code",
   "execution_count": 321,
   "metadata": {},
   "outputs": [
    {
     "output_type": "stream",
     "name": "stdout",
     "text": [
      "X_test:  (2715, 38)\ny_test:  (2715,)\n"
     ]
    }
   ],
   "source": [
    "x_test = test_set.drop(['price','house_is', 'postcode', 'equipped_kitchen_has', 'garden', 'terrace'], axis=1)\n",
    "\n",
    "column_trans = make_column_transformer((OneHotEncoder(), ['property_subtype', 'swimming_pool_has', 'open_fire', 'building_state_agg']), remainder='passthrough')\n",
    "X_test = column_trans.fit_transform(x_test)\n",
    "print(\"X_test: \", X_test.shape)\n",
    "\n",
    "y_test = test_set['price']\n",
    "print(\"y_test: \", y_test.shape)\n"
   ]
  },
  {
   "cell_type": "code",
   "execution_count": 322,
   "metadata": {},
   "outputs": [
    {
     "output_type": "stream",
     "name": "stdout",
     "text": [
      "Score train: 0.3488008454740398\nScore test: 0.3802129557721904\n"
     ]
    }
   ],
   "source": [
    "linreg = LinearRegression().fit(X_train, y_train)\n",
    "y_pred = linreg.predict(X_test)\n",
    "print('Score train:', linreg.score(X_train,y_train))\n",
    "print('Score test:', linreg.score(X_test,y_test))"
   ]
  },
  {
   "cell_type": "code",
   "execution_count": 314,
   "metadata": {},
   "outputs": [
    {
     "output_type": "stream",
     "name": "stdout",
     "text": [
      "0.9622932337767128\n0.7800023850039852\n"
     ]
    }
   ],
   "source": [
    "from sklearn import ensemble\n",
    "rfr = ensemble.RandomForestRegressor(max_depth=20, random_state=0)\n",
    "rfr.fit(X_train, y_train) \n",
    "print(rfr.score(X_train, y_train))\n",
    "print(rfr.score(X_test, y_test))"
   ]
  },
  {
   "cell_type": "code",
   "execution_count": 315,
   "metadata": {},
   "outputs": [
    {
     "output_type": "stream",
     "name": "stdout",
     "text": [
      "0.9997161819431446\n",
      "0.7556827913329751\n"
     ]
    }
   ],
   "source": [
    "rfr = ensemble.ExtraTreesRegressor(n_estimators=400, random_state=5)\n",
    "rfr.fit(X_train, y_train) \n",
    "print(rfr.score(X_train, y_train))\n",
    "print(rfr.score(X_test, y_test))"
   ]
  },
  {
   "cell_type": "code",
   "execution_count": 316,
   "metadata": {},
   "outputs": [
    {
     "output_type": "stream",
     "name": "stdout",
     "text": [
      "0.7858969908244615\n",
      "0.6978465876421003\n"
     ]
    }
   ],
   "source": [
    "rfr = ensemble.VotingRegressor([('lr', LinearRegression()), ('rf', ensemble.RandomForestRegressor(n_estimators=200, random_state=0))])\n",
    "rfr.fit(X_train, y_train) \n",
    "print(rfr.score(X_train, y_train))\n",
    "print(rfr.score(X_test, y_test))"
   ]
  },
  {
   "cell_type": "code",
   "execution_count": 317,
   "metadata": {},
   "outputs": [
    {
     "output_type": "stream",
     "name": "stdout",
     "text": [
      "0.9580133542649714\n0.7902967723736898\n"
     ]
    }
   ],
   "source": [
    "clf = ensemble.GradientBoostingRegressor(\n",
    "    n_estimators=400, max_depth=5, min_samples_split=7, learning_rate=0.1, loss='ls')\n",
    "clf.fit(X_train, y_train) \n",
    "print(clf.score(X_train, y_train))\n",
    "print(clf.score(X_test, y_test))"
   ]
  },
  {
   "cell_type": "code",
   "execution_count": 318,
   "metadata": {},
   "outputs": [],
   "source": [
    "#pickle the model\n",
    "import pickle\n",
    "model_path = \"./model.pkl\"\n",
    "pickle.dump(clf, open(model_path, 'wb'))"
   ]
  },
  {
   "cell_type": "code",
   "execution_count": null,
   "metadata": {},
   "outputs": [],
   "source": []
  }
 ]
}