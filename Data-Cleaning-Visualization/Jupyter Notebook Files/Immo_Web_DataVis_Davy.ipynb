{
 "cells": [
  {
   "cell_type": "code",
   "execution_count": 7,
   "metadata": {},
   "outputs": [],
   "source": [
    "import numpy as np\n",
    "import pandas as pd\n",
    "import re\n",
    "import numpy as np\n",
    "from itertools import chain\n",
    "from IPython.display import Markdown, display"
   ]
  },
  {
   "cell_type": "markdown",
   "metadata": {},
   "source": [
    "## Retrieve The merged data set"
   ]
  },
  {
   "cell_type": "code",
   "execution_count": 8,
   "metadata": {},
   "outputs": [],
   "source": [
    "data=pd.read_csv('https://raw.githubusercontent.com/FrancescoMariottini/project3/main/inputs/all_sales_data.csv',sep=',',dtype='unicode')"
   ]
  },
  {
   "cell_type": "code",
   "execution_count": 9,
   "metadata": {},
   "outputs": [
    {
     "data": {
      "text/plain": [
       "(93068, 22)"
      ]
     },
     "execution_count": 9,
     "metadata": {},
     "output_type": "execute_result"
    }
   ],
   "source": [
    "data.shape"
   ]
  },
  {
   "cell_type": "code",
   "execution_count": 4,
   "metadata": {},
   "outputs": [],
   "source": [
    "# Saving in local file\n",
    "data.to_csv(\"data/all_sales_data.csv\")"
   ]
  },
  {
   "cell_type": "code",
   "execution_count": 5,
   "metadata": {},
   "outputs": [
    {
     "data": {
      "text/plain": [
       "(93068, 7)"
      ]
     },
     "execution_count": 5,
     "metadata": {},
     "output_type": "execute_result"
    }
   ],
   "source": [
    "# Working on some colums\n",
    "data = data[[\"source\", \"hyperlink\", \"price\", \"sale\", \"garden\", \"garden_area\", \"swimming_pool_has\"]]\n",
    "data.shape"
   ]
  },
  {
   "cell_type": "markdown",
   "metadata": {},
   "source": [
    "# Clean per colums"
   ]
  },
  {
   "cell_type": "markdown",
   "metadata": {},
   "source": [
    "## Hyperlink"
   ]
  },
  {
   "cell_type": "code",
   "execution_count": 10,
   "metadata": {},
   "outputs": [],
   "source": [
    "def clean_hyperlink_column():\n",
    "    data.hyperlink.fillna(-999, inplace=True)\n",
    "    for u in range(len(data.hyperlink)):\n",
    "        if 'realo' in str(data.hyperlink[u]):\n",
    "            data.hyperlink[u] = -999\n",
    "        elif 'immoweb' in str(data.hyperlink[u]):\n",
    "            code = [re.findall(r'\\d+', ti) for ti in str(data.hyperlink[u]).split(\"/\")]\n",
    "            for ti in code:\n",
    "                try:\n",
    "                    if len(ti[0]) == 7:\n",
    "                        data.hyperlink[u] = ti[0]\n",
    "                except:\n",
    "                    pass\n",
    "    else:\n",
    "        pass\n",
    "    \n",
    "    data.to_csv('data/davy_data.csv')\n",
    "\n",
    "clean_hyperlink_column()"
   ]
  },
  {
   "cell_type": "markdown",
   "metadata": {},
   "source": [
    "## Price"
   ]
  },
  {
   "cell_type": "code",
   "execution_count": 19,
   "metadata": {},
   "outputs": [],
   "source": [
    "def clean_price_column():\n",
    "    price_list = []\n",
    "    for dat in data.price:\n",
    "        try:\n",
    "            dat = str(dat)\n",
    "            if dat.startswith(\"€\"):\n",
    "                if int(dat[1: ]) < 2500:\n",
    "                    dat = int(dat[1: ]) * 1000\n",
    "                else:\n",
    "                    dat = int(dat[1: ])\n",
    "                price_list.append(dat)\n",
    "            elif \"€\" in dat:\n",
    "                if int(dat[ 0 : dat.index(\"€\")]) < 2500:\n",
    "                    dat = int(dat[ 0 : dat.index(\"€\")]) * 1000\n",
    "                else:\n",
    "                    dat = int(dat[ 0 : dat.index(\"€\")])\n",
    "                price_list.append(dat)\n",
    "            else:\n",
    "                if int(dat) < 2500:\n",
    "                    dat = int(dat) * 1000\n",
    "                else:\n",
    "                    dat = int(dat)\n",
    "                price_list.append(dat)\n",
    "                \n",
    "        except:\n",
    "            price_list.append(-999)\n",
    "    \n",
    "    data.price = price_list        \n",
    "    data.price = data.price.replace([0], -999)\n",
    "    data.to_csv(\"data/davy_data.csv\")\n",
    "\n",
    "    \n",
    "clean_price_column()"
   ]
  },
  {
   "cell_type": "markdown",
   "metadata": {},
   "source": [
    "## Garden"
   ]
  },
  {
   "cell_type": "code",
   "execution_count": 20,
   "metadata": {},
   "outputs": [],
   "source": [
    "def clean_garden_column():\n",
    "    \n",
    "    data.garden.replace({'\\d+': 0}, regex=True, inplace = True)    \n",
    "    data.garden.replace(to_replace =[\"False\"],  value = 0, inplace = True)\n",
    "    data.garden.replace(to_replace =[\"True\"], value = 1, inplace =  True)\n",
    "    data.garden.fillna(-99, inplace=True)\n",
    "        \n",
    "    data.to_csv(\"data/davy_data.csv\")\n",
    "    \n",
    "clean_garden_column()"
   ]
  },
  {
   "cell_type": "markdown",
   "metadata": {},
   "source": [
    "## Garden Area"
   ]
  },
  {
   "cell_type": "code",
   "execution_count": 21,
   "metadata": {},
   "outputs": [],
   "source": [
    "def clean_garden_area():\n",
    "    \n",
    "    data.garden_area.fillna(-999, inplace=True)\n",
    "    data.garden_area.replace(to_replace =['None'],  value = -999, inplace = True)\n",
    "    \n",
    "        \n",
    "    data.to_csv(\"data/davy_data.csv\")\n",
    "    \n",
    "clean_garden_area()"
   ]
  },
  {
   "cell_type": "markdown",
   "metadata": {},
   "source": [
    "## Sale"
   ]
  },
  {
   "cell_type": "code",
   "execution_count": 22,
   "metadata": {},
   "outputs": [],
   "source": [
    "def clean_sale_column():\n",
    "    \n",
    "    data.sale.fillna(-999, inplace=True)\n",
    "    data.sale.replace(to_replace =['None'],  value = -999, inplace = True)\n",
    "    \n",
    "        \n",
    "    data.to_csv(\"data/davy_data.csv\")\n",
    "    \n",
    "clean_sale_column()"
   ]
  },
  {
   "cell_type": "markdown",
   "metadata": {},
   "source": [
    "## Swimming Pool"
   ]
  },
  {
   "cell_type": "code",
   "execution_count": 23,
   "metadata": {},
   "outputs": [],
   "source": [
    "def clean_swimming_pool():\n",
    "    \n",
    "    data.swimming_pool_has.fillna(-999, inplace=True)\n",
    "    data.swimming_pool_has.replace(to_replace =['True'],  value = 1, inplace = True)\n",
    "    data.swimming_pool_has.replace(to_replace =['TRUE'],  value = 1, inplace = True)\n",
    "    data.swimming_pool_has.replace(to_replace =['False'],  value = 0, inplace = True)\n",
    "    data.swimming_pool_has.replace(to_replace =['FALSE'],  value = 0, inplace = True)\n",
    "    \n",
    "        \n",
    "    data.to_csv(\"data/davy_data.csv\")\n",
    "    \n",
    "clean_swimming_pool()"
   ]
  },
  {
   "cell_type": "code",
   "execution_count": 24,
   "metadata": {},
   "outputs": [
    {
     "name": "stdout",
     "output_type": "stream",
     "text": [
      "<class 'pandas.core.frame.DataFrame'>\n",
      "RangeIndex: 93068 entries, 0 to 93067\n",
      "Data columns (total 7 columns):\n",
      " #   Column             Non-Null Count  Dtype  \n",
      "---  ------             --------------  -----  \n",
      " 0   source             93068 non-null  object \n",
      " 1   hyperlink          93068 non-null  object \n",
      " 2   price              93068 non-null  int64  \n",
      " 3   sale               93068 non-null  object \n",
      " 4   garden             93068 non-null  float64\n",
      " 5   garden_area        93068 non-null  object \n",
      " 6   swimming_pool_has  93068 non-null  object \n",
      "dtypes: float64(1), int64(1), object(5)\n",
      "memory usage: 5.0+ MB\n"
     ]
    }
   ],
   "source": [
    "data.info()"
   ]
  },
  {
   "cell_type": "code",
   "execution_count": 2,
   "metadata": {},
   "outputs": [
    {
     "name": "stdout",
     "output_type": "stream",
     "text": [
      "<class 'pandas.core.frame.DataFrame'>\n",
      "RangeIndex: 64570 entries, 0 to 64569\n",
      "Data columns (total 23 columns):\n",
      " #   Column             Non-Null Count  Dtype  \n",
      "---  ------             --------------  -----  \n",
      " 0   Unnamed: 0         64570 non-null  int64  \n",
      " 1   locality           64570 non-null  object \n",
      " 2   city               64570 non-null  object \n",
      " 3   postcode           64570 non-null  int64  \n",
      " 4   region             64570 non-null  object \n",
      " 5   house_is           64570 non-null  int64  \n",
      " 6   property_subtype   58713 non-null  object \n",
      " 7   price              43342 non-null  float64\n",
      " 8   sale               10803 non-null  object \n",
      " 9   rooms_number       63523 non-null  float64\n",
      " 10  area               53718 non-null  float64\n",
      " 11  kitchen_has        54828 non-null  float64\n",
      " 12  furnished          52591 non-null  float64\n",
      " 13  open_fire          58938 non-null  float64\n",
      " 14  terrace            48949 non-null  float64\n",
      " 15  terrace_area       15757 non-null  float64\n",
      " 16  garden             64570 non-null  int64  \n",
      " 17  garden_area        36907 non-null  float64\n",
      " 18  land_surface       30810 non-null  float64\n",
      " 19  land_plot_surface  31108 non-null  float64\n",
      " 20  facades_number     32840 non-null  float64\n",
      " 21  swimming_pool_has  48345 non-null  float64\n",
      " 22  building_state     35045 non-null  object \n",
      "dtypes: float64(13), int64(4), object(6)\n",
      "memory usage: 11.3+ MB\n"
     ]
    }
   ],
   "source": [
    "data = pd.read_csv('data/def_dataset.csv')\n",
    "data.info()"
   ]
  },
  {
   "cell_type": "code",
   "execution_count": null,
   "metadata": {},
   "outputs": [],
   "source": []
  }
 ],
 "metadata": {
  "kernelspec": {
   "display_name": "Python 3",
   "language": "python",
   "name": "python3"
  },
  "language_info": {
   "codemirror_mode": {
    "name": "ipython",
    "version": 3
   },
   "file_extension": ".py",
   "mimetype": "text/x-python",
   "name": "python",
   "nbconvert_exporter": "python",
   "pygments_lexer": "ipython3",
   "version": "3.8.3"
  }
 },
 "nbformat": 4,
 "nbformat_minor": 4
}
