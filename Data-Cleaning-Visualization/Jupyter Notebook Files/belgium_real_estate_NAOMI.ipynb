{
 "metadata": {
  "language_info": {
   "codemirror_mode": {
    "name": "ipython",
    "version": 3
   },
   "file_extension": ".py",
   "mimetype": "text/x-python",
   "name": "python",
   "nbconvert_exporter": "python",
   "pygments_lexer": "ipython3",
   "version": "3.6.9-final"
  },
  "orig_nbformat": 2,
  "kernelspec": {
   "name": "Python 3.6.9 64-bit",
   "display_name": "Python 3.6.9 64-bit",
   "metadata": {
    "interpreter": {
     "hash": "31f2aee4e71d21fbe5cf8b01ff0e069b9275f58929596ceb00d14d90e3e16cd6"
    }
   }
  }
 },
 "nbformat": 4,
 "nbformat_minor": 2,
 "cells": [
  {
   "cell_type": "code",
   "execution_count": 13,
   "metadata": {},
   "outputs": [],
   "source": [
    "import pandas as pd\n",
    "import numpy as np"
   ]
  },
  {
   "cell_type": "code",
   "execution_count": 14,
   "metadata": {},
   "outputs": [],
   "source": [
    "df = pd.read_csv('/mnt/d/BeCode/BXL-Bouman-2.22/Content/Real_estate_datasets/datasets/all_sales_data.csv')"
   ]
  },
  {
   "cell_type": "code",
   "execution_count": 15,
   "metadata": {},
   "outputs": [],
   "source": [
    "df_selected=df[['house_is','property_subtype','terrace','terrace_area','building_state']]"
   ]
  },
  {
   "source": [
    "**Functions to Clean the Columns**"
   ],
   "cell_type": "markdown",
   "metadata": {}
  },
  {
   "cell_type": "code",
   "execution_count": 16,
   "metadata": {},
   "outputs": [],
   "source": [
    "#function to clean terrace column\n",
    "def process_terrace():\n",
    "    df = df_selected['terrace']\n",
    "    df = df.astype(str)\n",
    "    df = df.replace(['True', 'TRUE'], '1')\n",
    "    df = df.replace(['False', '2.0', '3.0', '4.0'], '0')\n",
    "    df = df.replace('nan', '-999')\n",
    "    df = df*1\n",
    "    df = df.astype(int)\n",
    "    return df"
   ]
  },
  {
   "cell_type": "code",
   "execution_count": 17,
   "metadata": {},
   "outputs": [],
   "source": [
    "#function to clean terrace_area column\n",
    "def process_terrace_area():\n",
    "    df = df_selected['terrace_area']\n",
    "    df = df.replace(['None', 'TRUE', 'Yes', 'South', 'North West', 'South East',\n",
    "       'South West', 'North East', 'East', 'West'], '0') \n",
    "    df = df.replace(['0'], '-999')\n",
    "    df = df.replace(np.NaN, '-999')\n",
    "    df = df.astype(int)\n",
    "    return df"
   ]
  },
  {
   "cell_type": "code",
   "execution_count": 23,
   "metadata": {},
   "outputs": [],
   "source": [
    "#function to clean building_state column\n",
    "def process_building_state():\n",
    "    df = df_selected['building_state']\n",
    "    df.convert_dtypes()\n",
    "    df = df.replace(['None', '0', 'not_specified', 'not_specified'],'-999')\n",
    "    df = df.fillna('-999')\n",
    "    df = df.str.lower()\n",
    "    df = df.str.replace(\" \", \"_\")\n",
    "    df = df.replace(['to_be_done_up', 'to_restore', 'to be done up', 'to restore', 'to renovate'],'to_renovate')\n",
    "    return df"
   ]
  },
  {
   "cell_type": "code",
   "execution_count": 19,
   "metadata": {},
   "outputs": [],
   "source": [
    "#function to clean house_is column\n",
    "def house_is():\n",
    "    df = df_selected['house_is']\n",
    "    df = df*1\n",
    "    return df"
   ]
  },
  {
   "cell_type": "code",
   "execution_count": 20,
   "metadata": {},
   "outputs": [],
   "source": [
    "#function to clean property_subtypes column\n",
    "def process_property_types():\n",
    "\n",
    "    values = [ '2008','1994', '2015', '2007', '2009', '2014', '1992', '1997','133,000 sqft', '1983', '1971', '4', '2019', '1989','1995', '1900', '1990', '1993', '2020', '2016','2004', '1991', '2012', '1965', '1979','1982', '1963', '1988', '2006', '1962', '1924', '3', '1986','2010', '2003', '76,000 sqft', '1981', '2011','5', '1', '2005', '1975', '1984','1974', '1976', '2018', '2002', '1957', '1998','1972', '1966', '1961', '1973', '1996','1987', '2022', '1978', '1870','2017', '1969', '1956', '2013', '1985','1930', '2', '1861', '1850', '2001', '2000','1927', '1999','1959', '1980', '1967', '6', '1901',  '16','25,700.4 sqft', '1899', '1915', '1832', '1867','1977', '9999', '1968', '1931', '1910', '1970','1914', '1960','9,364.6 sqft', '1926', '1853', '1928', '1929', '1921','1938', '1945', '1964', '1913', '1881', '1925', '1875', '1911', '7,409.88 sqft']\n",
    "\n",
    "    property_df = df[df['property_subtype'].isin(values)]\n",
    "    property_df = property_df.rename(columns={'property_subtype': 'sale_'})\n",
    "    property_df = property_df.rename(columns={'sale':'property_subtype'})\n",
    "    property_df = property_df.rename(columns={'sale_':'sale'})\n",
    "\n",
    "    #move columns back\n",
    "    col1='property_subtype'\n",
    "    col2='sale'\n",
    "    property_df[[col1 if col == col2 else col2 if col == col1 else col for col in property_df.columns]]\n",
    "    df.update(property_df)\n",
    "\n",
    "    df['property_subtype'] = df['property_subtype'].str.lower()\n",
    "    df['property_subtype'] = df['property_subtype'].str.replace(\"-\", \"_\").str.replace(\" / \", \"_\").str.replace(\" \", \"_\")\n",
    "\n",
    "    #swap values in property_subtypes and sale columns \n",
    "    values = ['other', 'finca', 'special_property']\n",
    "    property_df = df[df['property_subtype'].isin(values)]\n",
    "    property_df = property_df.rename(columns={'property_subtype': 'sale_'})\n",
    "    property_df = property_df.rename(columns={'sale':'property_subtype'})\n",
    "    property_df = property_df.rename(columns={'sale_':'sale'})\n",
    "\n",
    "    col1='property_subtype'\n",
    "    col2='sale'\n",
    "    property_df[[col1 if col == col2 else col2 if col == col1 else col for col in property_df.columns]].head()\n",
    "    df.update(property_df)\n",
    "\n",
    "    #fill null values\n",
    "    df['property_subtype'].fillna('-999', inplace=True)\n",
    "\n",
    "    #standardize the spellings in groups\n",
    "    df['property_subtype'] = df['property_subtype'].replace(['maison', 'huis', ' Maison', ' House', 'ander(e)'], 'house')\n",
    "    df['property_subtype'] = df['property_subtype'].replace([' apartment', 'appartement', '_apartment', 'appartamento', ' apartamento', 'apartamento', 'Appartement', '_apartment', '_apartamento', ' Apartment', 'ground_floor_apartment', 'wohnung', '_wohnung', 'flat', 'etagenwohnung'], 'apartment')\n",
    "    df['property_subtype'] = df['property_subtype'].replace(['établissement_historique','historische_pand'], 'historic_estate')\n",
    "    df['property_subtype'] = df['property_subtype'].replace(['appartamento_duplex', 'dúplex'], 'duplex')\n",
    "    df['property_subtype'] = df['property_subtype'].replace(['vrijstaande_woning'], 'detached_house')\n",
    "    df['property_subtype'] = df['property_subtype'].replace(['loft_zolder', 'loft_attic', 'loft_dachgeschoss','loft_ático', 'loft_mansarde','attico'], 'loft')\n",
    "    df['property_subtype'] = df['property_subtype'].replace(['investment_residential_investment', 'investering_woon__en_werkruimte'], 'investment_property')\n",
    "\n",
    "    #standardize the spellings individually\n",
    "    replace_values = {'maison_détachée': 'detached_house', 'maisonette_duplex':'duplex', 'investissement': 'investment_property', 'immeuble_spécial': 'special_property', 'duplex_apartment':'duplex', 'autre':'other'}\n",
    "\n",
    "    df['property_subtype'] = df['property_subtype'].replace(replace_values)\n",
    "\n",
    "    #swap values in property_subtypes and sale columns \n",
    "    values = ['investment_property']\n",
    "    property_df = df[df['property_subtype'].isin(values)]\n",
    "    property_df = property_df.rename(columns={'property_subtype': 'sale_'})\n",
    "    property_df = property_df.rename(columns={'sale':'property_subtype'})\n",
    "    property_df = property_df.rename(columns={'sale_':'sale'})\n",
    "\n",
    "    col1='property_subtype'\n",
    "    col2='sale'\n",
    "    property_df[[col1 if col == col2 else col2 if col == col1 else col for col in property_df.columns]].head()\n",
    "    df.update(property_df)\n",
    "\n",
    "    #replace values\n",
    "    replace_values = [' House', ' Huis', ' Maison']\n",
    "    df['property_subtype'] = df['property_subtype'].replace(replace_values)\n",
    "\n",
    "    return df['property_subtype']"
   ]
  },
  {
   "source": [
    "**Call functions**"
   ],
   "cell_type": "markdown",
   "metadata": {}
  },
  {
   "cell_type": "code",
   "execution_count": 21,
   "metadata": {},
   "outputs": [],
   "source": [
    "df_selected['terrace'] = process_terrace()\n",
    "df_selected['terrace_area'] = process_terrace_area()\n",
    "df_selected['building_state'] = process_building_state()\n",
    "df_selected['house_is'] = house_is()\n",
    "df_selected['property_subtype'] = process_property_types()"
   ]
  },
  {
   "cell_type": "code",
   "execution_count": 24,
   "metadata": {},
   "outputs": [
    {
     "output_type": "execute_result",
     "data": {
      "text/plain": [
       "       house_is    property_subtype  terrace  terrace_area  building_state\n",
       "0             1  mixed_use_building        1            36            good\n",
       "1             1               villa        0          -999          as_new\n",
       "2             1     apartment_block        0          -999     to_renovate\n",
       "3             1               house        0          -999  just_renovated\n",
       "4             1  mixed_use_building        0          -999          as_new\n",
       "...         ...                 ...      ...           ...             ...\n",
       "93063         0                -999     -999          -999     to_renovate\n",
       "93064         0                -999     -999          -999            good\n",
       "93065         0                -999     -999          -999          as_new\n",
       "93066         0                -999     -999          -999   not_specified\n",
       "93067         0                -999     -999          -999   not_specified\n",
       "\n",
       "[93068 rows x 5 columns]"
      ],
      "text/html": "<div>\n<style scoped>\n    .dataframe tbody tr th:only-of-type {\n        vertical-align: middle;\n    }\n\n    .dataframe tbody tr th {\n        vertical-align: top;\n    }\n\n    .dataframe thead th {\n        text-align: right;\n    }\n</style>\n<table border=\"1\" class=\"dataframe\">\n  <thead>\n    <tr style=\"text-align: right;\">\n      <th></th>\n      <th>house_is</th>\n      <th>property_subtype</th>\n      <th>terrace</th>\n      <th>terrace_area</th>\n      <th>building_state</th>\n    </tr>\n  </thead>\n  <tbody>\n    <tr>\n      <th>0</th>\n      <td>1</td>\n      <td>mixed_use_building</td>\n      <td>1</td>\n      <td>36</td>\n      <td>good</td>\n    </tr>\n    <tr>\n      <th>1</th>\n      <td>1</td>\n      <td>villa</td>\n      <td>0</td>\n      <td>-999</td>\n      <td>as_new</td>\n    </tr>\n    <tr>\n      <th>2</th>\n      <td>1</td>\n      <td>apartment_block</td>\n      <td>0</td>\n      <td>-999</td>\n      <td>to_renovate</td>\n    </tr>\n    <tr>\n      <th>3</th>\n      <td>1</td>\n      <td>house</td>\n      <td>0</td>\n      <td>-999</td>\n      <td>just_renovated</td>\n    </tr>\n    <tr>\n      <th>4</th>\n      <td>1</td>\n      <td>mixed_use_building</td>\n      <td>0</td>\n      <td>-999</td>\n      <td>as_new</td>\n    </tr>\n    <tr>\n      <th>...</th>\n      <td>...</td>\n      <td>...</td>\n      <td>...</td>\n      <td>...</td>\n      <td>...</td>\n    </tr>\n    <tr>\n      <th>93063</th>\n      <td>0</td>\n      <td>-999</td>\n      <td>-999</td>\n      <td>-999</td>\n      <td>to_renovate</td>\n    </tr>\n    <tr>\n      <th>93064</th>\n      <td>0</td>\n      <td>-999</td>\n      <td>-999</td>\n      <td>-999</td>\n      <td>good</td>\n    </tr>\n    <tr>\n      <th>93065</th>\n      <td>0</td>\n      <td>-999</td>\n      <td>-999</td>\n      <td>-999</td>\n      <td>as_new</td>\n    </tr>\n    <tr>\n      <th>93066</th>\n      <td>0</td>\n      <td>-999</td>\n      <td>-999</td>\n      <td>-999</td>\n      <td>not_specified</td>\n    </tr>\n    <tr>\n      <th>93067</th>\n      <td>0</td>\n      <td>-999</td>\n      <td>-999</td>\n      <td>-999</td>\n      <td>not_specified</td>\n    </tr>\n  </tbody>\n</table>\n<p>93068 rows × 5 columns</p>\n</div>"
     },
     "metadata": {},
     "execution_count": 24
    }
   ],
   "source": [
    "df_selected"
   ]
  },
  {
   "cell_type": "code",
   "execution_count": 25,
   "metadata": {},
   "outputs": [
    {
     "output_type": "execute_result",
     "data": {
      "text/plain": [
       "house_is             int64\n",
       "property_subtype    object\n",
       "terrace              int64\n",
       "terrace_area         int64\n",
       "building_state      object\n",
       "dtype: object"
      ]
     },
     "metadata": {},
     "execution_count": 25
    }
   ],
   "source": [
    "df_selected.dtypes"
   ]
  },
  {
   "source": [
    "**Percentage of Null Values**"
   ],
   "cell_type": "markdown",
   "metadata": {}
  },
  {
   "cell_type": "code",
   "execution_count": 26,
   "metadata": {},
   "outputs": [],
   "source": [
    "df_null = pd.read_csv('/mnt/d/BeCode/BXL-Bouman-2.22/Content/Real_estate_datasets/datasets/all_sales_data.csv')"
   ]
  },
  {
   "cell_type": "code",
   "execution_count": 27,
   "metadata": {},
   "outputs": [
    {
     "output_type": "stream",
     "name": "stdout",
     "text": [
      "Percentage of Null Values in: \n\nsource:  0.0 %\nhyperlink:  23.631 %\nlocality:  0.002 %\npostcode:  7.964 %\nhouse_is:  0.0 %\nproperty_subtype:  6.473 %\nprice:  1.581 %\nsale:  72.268 %\nrooms_number:  1.482 %\narea:  3.79 %\nkitchen:  12.512 %\nfurnished:  13.39 %\nopen_fire:  6.309 %\nterrace:  22.308 %\nterrace_area:  18.935 %\ngarden:  9.086 %\ngarden_area:  24.84 %\nland_surface:  31.227 %\nland_plot_surface:  32.086 %\nfacades_number:  10.188 %\nswimming_pool_has:  21.773 %\nbuilding_state:  33.502 %\n"
     ]
    }
   ],
   "source": [
    "source_percentage = df_null['source'].isnull().mean()*100 \n",
    "hyperlink_percentage = df_null['hyperlink'].isnull().mean()*100 \n",
    "locality_percentage = df_null['locality'].isnull().mean()*100\n",
    "postcode_percentage = df_null['postcode'].isnull().mean()*100\n",
    "house_is_percentage = df_null['house_is'].isnull().mean()*100\n",
    "property_subtype_percentage = df_null['property_subtype'].isnull().mean()*100\n",
    "price_percentage = df_null['price'].isnull().mean()*100\n",
    "sale_percentage = df_null['sale'].isnull().mean()*100\n",
    "rooms_number_percentage = df_null['rooms_number'].isnull().mean()*100\n",
    "area_percentage = df_null['area'].isnull().mean()*100\n",
    "kitchen_has_percentage = df_null['kitchen_has'].isnull().mean()*100\n",
    "furnished_percentage = df_null['furnished'].isnull().mean()*100\n",
    "open_fire_percentage = df_null['open_fire'].isnull().mean()*100\n",
    "terrace_percentage = df_null['terrace'].isnull().mean()*100\n",
    "terrace_area_percentage = df_null['terrace_area'].isnull().mean()*100\n",
    "garden_percentage = df_null['garden'].isnull().mean()*100\n",
    "garden_area_percentage = df_null['garden_area'].isnull().mean()*100\n",
    "land_surface_percentage = df_null['land_surface'].isnull().mean()*100\n",
    "land_plot_surface_percentage = df_null['land_plot_surface'].isnull().mean()*100\n",
    "facades_number_percentage = df_null['facades_number'].isnull().mean()*100\n",
    "swimming_pool_has_percentage = df_null['swimming_pool_has'].isnull().mean()*100\n",
    "building_state_percentage = df_null['building_state'].isnull().mean()*100\n",
    "\n",
    "\n",
    "print('Percentage of Null Values in: \\n')\n",
    "print('source: ',round(house_is_percentage,3),\"%\")\n",
    "print('hyperlink: ',round(hyperlink_percentage,3),\"%\")\n",
    "print('locality: ',round(locality_percentage,3),\"%\")\n",
    "print('postcode: ',round(postcode_percentage,3),\"%\")\n",
    "print('house_is: ',round(house_is_percentage,3),\"%\")\n",
    "print('property_subtype: ',round(property_subtype_percentage,3),\"%\")\n",
    "print('price: ',round(price_percentage,3),\"%\")\n",
    "print('sale: ',round(sale_percentage,3),\"%\")\n",
    "print('rooms_number: ',round(rooms_number_percentage,3),\"%\")\n",
    "print('area: ',round(area_percentage,3),\"%\")\n",
    "print('kitchen: ',round(kitchen_has_percentage,3),\"%\")\n",
    "print('furnished: ',round(furnished_percentage,3),\"%\")\n",
    "print('open_fire: ',round(open_fire_percentage,3),\"%\")\n",
    "print('terrace: ',round(terrace_percentage,3),\"%\")\n",
    "print('terrace_area: ',round(terrace_area_percentage,3),\"%\")\n",
    "print('garden: ',round(garden_percentage,3),\"%\")\n",
    "print('garden_area: ',round(garden_area_percentage,3),\"%\")\n",
    "print('land_surface: ',round(land_surface_percentage,3),\"%\")\n",
    "print('land_plot_surface: ',round(land_plot_surface_percentage,3),\"%\")\n",
    "print('facades_number: ',round(facades_number_percentage,3),\"%\")\n",
    "print('swimming_pool_has: ',round(swimming_pool_has_percentage,3),\"%\")\n",
    "print('building_state: ',round(building_state_percentage,3),\"%\")"
   ]
  },
  {
   "cell_type": "code",
   "execution_count": null,
   "metadata": {},
   "outputs": [],
   "source": []
  }
 ]
}